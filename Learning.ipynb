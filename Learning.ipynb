{
 "cells": [
  {
   "cell_type": "code",
   "execution_count": 1,
   "id": "745b53df-40ef-4b06-b131-f8d75b7575d4",
   "metadata": {},
   "outputs": [
    {
     "name": "stdout",
     "output_type": "stream",
     "text": [
      "hellow world\n"
     ]
    }
   ],
   "source": [
    "print(\"hellow world\")"
   ]
  },
  {
   "cell_type": "code",
   "execution_count": 2,
   "id": "77833551-1693-4a17-88c0-d384ac353765",
   "metadata": {},
   "outputs": [
    {
     "name": "stdout",
     "output_type": "stream",
     "text": [
      "who is there\n"
     ]
    }
   ],
   "source": [
    "print(\"who is there\")"
   ]
  },
  {
   "cell_type": "code",
   "execution_count": 3,
   "id": "a1652e49-1fbf-4f91-8840-cf2803432833",
   "metadata": {},
   "outputs": [
    {
     "name": "stdout",
     "output_type": "stream",
     "text": [
      "its awais Ali\n"
     ]
    }
   ],
   "source": [
    "print(\"its awais Ali\")"
   ]
  },
  {
   "cell_type": "code",
   "execution_count": 4,
   "id": "69c71ec8-49e5-4fa0-96b7-b54b45813430",
   "metadata": {},
   "outputs": [
    {
     "name": "stdout",
     "output_type": "stream",
     "text": [
      "it me\n"
     ]
    }
   ],
   "source": [
    "print(\"it me\")"
   ]
  },
  {
   "cell_type": "code",
   "execution_count": null,
   "id": "debd83e6-d77e-471b-af0d-1c57db8ad866",
   "metadata": {},
   "outputs": [],
   "source": []
  }
 ],
 "metadata": {
  "kernelspec": {
   "display_name": "Python 3 (ipykernel)",
   "language": "python",
   "name": "python3"
  },
  "language_info": {
   "codemirror_mode": {
    "name": "ipython",
    "version": 3
   },
   "file_extension": ".py",
   "mimetype": "text/x-python",
   "name": "python",
   "nbconvert_exporter": "python",
   "pygments_lexer": "ipython3",
   "version": "3.13.5"
  }
 },
 "nbformat": 4,
 "nbformat_minor": 5
}
